{
  "cells": [
    {
      "cell_type": "code",
      "source": [],
      "metadata": {
        "id": "qNBROj0UjOgk"
      },
      "execution_count": null,
      "outputs": []
    },
    {
      "cell_type": "markdown",
      "source": [
        "**Name**-Jemimah osei\n",
        "\n",
        "**Assignment** Sprint 1\n"
      ],
      "metadata": {
        "id": "pTkFSq36j23D"
      }
    },
    {
      "cell_type": "markdown",
      "source": [
        "# Sprint 1 (20 points total)\n",
        "This is an *individual assignment*, the first sprint of Cornell's ENMGT 5920, Product Management. Thanks to our TA, Qian Ni, for homologating this file.\n",
        "\n",
        "Welcome to Colab. We are going to be using this product throughout the course, for a few reasons:\n",
        "1. It is free.\n",
        "2. It is easy to share your work.\n",
        "3. It is very sophisticated.\n",
        "4. A goal of this course is for you to develop your own portfolio of quantitative product management skills. This format allows you to share them with prospective employers.\n",
        "\n",
        "This sprint is a warmup, both to get you used to the idea of using Colab, a \"Jupyter like\" coding environment, and a coding refresher. You should complete the code assignments in Python.\n",
        "\n",
        "Finally, this sprint is intended to be easy - it is barely a sprint. If you are struggling with it, please talk to me or a TA for help."
      ],
      "metadata": {
        "datalore": {
          "node_id": "j9KpG4aFnir3ohl3n2tCv9",
          "type": "MD",
          "hide_input_from_viewers": true,
          "hide_output_from_viewers": true
        },
        "id": "y8kR_WzMKOAT"
      }
    },
    {
      "cell_type": "markdown",
      "source": [
        "\n",
        "\n",
        "##**How to submit**\n",
        "\n",
        "1. Download this notebook as an .ipynb file so that you have a backup\n",
        "2. Add a new first cell to your notebook. In the first cell, include some meta information:\n",
        "    1. Your name\n",
        "    2. The assignment, in this case Sprint 1\n",
        "    3. The libraries you installed, if any\n",
        "    4. A link to data sources you used, if any\n",
        "3. Name your notebook fname-lname-sprint-1.ipynb.\n",
        "4. Submit a link to your notebook in Google Colab to the Canvas assignment \"Sprint 1\".\n",
        "\n",
        "Finally, do future-you a favor and clean up this notebook, add lots of comments so you can understand what you did, and keep it for when you need it."
      ],
      "metadata": {
        "id": "LgGdl3cRlNxE"
      }
    },
    {
      "cell_type": "markdown",
      "source": [
        "## A special note on copying\n",
        "This course is about product management. It is not a course to teach you how to code, or statistics, but we will be using those concepts. It is NOT OK to just take code from your fellow students or anywhere else ...    \n",
        "BUT   \n",
        "      \n",
        "(1) You are encouraged to use libraries whenever possible. *For this course*, a library means an abstracted bit of code which is publicly available that solves a general type of problem, which you use to solve a specific problem. So if another student created a 'library' which just printed out the solutions, that would not be acceptable. But if they abstracted some code and put it on Github as a library, which you used to solve your specific problem, that would be fine. This is Python. There are A LOT of libraries out there already.     \n",
        "\n",
        "(2) The reality is that resources like Stackexchange, Copilot and language models are routinely used by developers in the normal course of coding. If you use a reference from Stackexchange/Stackoverflow or another online resource, link to it so that we know where it came from, just like any other reference. It won't count against your grade. Failing to link to it will, and will be treated as plagiarism."
      ],
      "metadata": {
        "datalore": {
          "node_id": "fP9RXvzdfSMJJ9RyUCiPjQ",
          "type": "MD",
          "hide_input_from_viewers": true,
          "hide_output_from_viewers": true
        },
        "id": "t5JseqDqKOAV"
      }
    },
    {
      "cell_type": "markdown",
      "source": [
        "**Use of chatGPT and similar services**\n",
        "\n",
        "Can I use chatGPT or a similar service to write my code or work on assignments for me?    \n",
        "    \n",
        "Yes, use of chatGPT or similar services are allowed **if and only if** you clearly reference it, just like any other reference you use. Create a markdown cell titled \"ChatGPT\" and:    \n",
        "1. Reference the URL of the service you are using (a reference includes the date you accessed it)    \n",
        "2. Paste the exact query you typed into the cell\n",
        "3. Paste the exact response you received as a separate cell below\n",
        "\n",
        "Then put your answer below that as a new cell. The goal is to be able to replicate your work.\n",
        "    \n",
        "Failure to reference in this manner will be treated as plagiarism and referred to the University for action. In particular, if you use ChatGPT and so does another student, your answers may look similar. You don't want that - cite your sources."
      ],
      "metadata": {
        "datalore": {
          "node_id": "Ne147rRVjMCnbE2Ozoj9UB",
          "type": "MD",
          "hide_input_from_viewers": true,
          "hide_output_from_viewers": true
        },
        "id": "1UHd9DnxKOAV"
      }
    },
    {
      "cell_type": "markdown",
      "source": [
        "## Part A"
      ],
      "metadata": {
        "id": "zg3weRnpr7wZ"
      }
    },
    {
      "cell_type": "markdown",
      "source": [
        "### Star ranking (3 points)"
      ],
      "metadata": {
        "id": "j5SmshGcsJFH"
      }
    },
    {
      "cell_type": "markdown",
      "source": [
        "\n",
        "For many people, when shopping online a significant choice motivator is the star rating that a product has - an average of the number of stars from all reviews. At Amazon, this is from the lowest, 1 star, to five stars. But how do you compare your product as it grows in reviews? What do you do with products which have widely differing numbers of views? How do we compare them? A product with five stars but two reviews is clearly not the same as [a product](https://www.amazon.com/Ninja-BN701-Professional-capacity-Crushing/dp/B0855B5Z6F/ref=sr_1_4?crid=2U3G3FRBD516N&keywords=ninja+blender&qid=1671220375&sprefix=ninja+blender%2Caps%2C103&sr=8-4) with 4.8 stars and over 12,000 reviews. We would expect that with more reviews we would see a reversion to the mean. How do we compare two products with widely differing numbers of review?\n",
        "\n",
        "Your company has recently launched a new food blender, the BlitzBlend. You have been appointed the product manager. The Blitz blend has the following reviews:    \n",
        "`[1,4,6,12,2] `   \n",
        "represented as a python list, where the element position indicates the number of reviews with that many stars. For example:     \n",
        "`product_a = [1,4,5,2,3]`       \n",
        "Has 1 one-star review, 4 two-star reviews, 5 three-star reviews and so on.    \n",
        "\n",
        "You want to track how your product is doing over time. You know that on average, as more people review your product, the rating will decrease (especially as you were told that the two five-star ratings are from your boss' friends).\n",
        "\n",
        "There are a few ways to compare stars. One commonly used way is the Bayesian average. This considers the arithmetic average of all products, and a confidence number. A [full explanation is here](https://www.algolia.com/doc/guides/managing-results/must-do/custom-ranking/how-to/bayesian-average/).\n",
        "\n",
        "To use the Bayesian average, you need two additional pieces of information:\n",
        "1. The 'default' rating of an item. This is the 'prior'. It is common to use the arithmetic average rating of all products. In the link above this is called 'm'. It is often called 'R' as well.\n",
        "2. How confident you are in the prior. We will call this 'c', for 'confidence number\n",
        "\n",
        "The Bayesian average for product_a above is then calculated as follows:    \n",
        "`(c * m + (number of 1-star ratings * 1) + (number of 2-star ratings * 2) ... etc) / (c + (number of 1-star ratings) + (number of 2-star ratings) .... etc )`     \n",
        "or, assuming m = 2, c = 3      \n",
        "`(3*2 + 1*1 + 4*2 + 6*3 + 12*4 + 2*5) / (3 + 1 + 4 + 6 + 12 + 2) = 3.25  `      \n",
        "\n",
        "Footnote: It is a statistical certainty that a product with 4.8 stars and 12,000 reviews has a massive number of fake reviews. This is a huge problem at Amazon, but not one we are dealing with in this sprint."
      ],
      "metadata": {
        "datalore": {
          "node_id": "iJ1Pa1BEoJuXsc8tQ6iGnS",
          "type": "MD",
          "hide_input_from_viewers": true,
          "hide_output_from_viewers": true
        },
        "id": "1xoF5piiKOAW"
      }
    },
    {
      "cell_type": "code",
      "source": [
        "# This block of code is called a cell in Colab).\n",
        "# To execute it, press shift + enter or press the 'play' button in the top left.\n",
        "# State and variables persist from one cell to another, unless you restart the kernel.\n",
        "# Note that in Python, it is convention to use underscores_for_variable_names, not modifiedCamelCase.\n",
        "\n",
        "# Calculate the normal arithmetic average rating for the BlitzBlend:\n",
        "m = 3.24\n",
        "c = 3\n",
        "\n",
        "blitzblend_rating = [1, 4, 6, 12, 2]\n",
        "arithmetic_average = sum(blitzblend_rating) / len(blitzblend_rating)\n",
        "print(arithmetic_average)\n",
        "\n"
      ],
      "execution_count": null,
      "outputs": [
        {
          "output_type": "stream",
          "name": "stdout",
          "text": [
            "5.0\n"
          ]
        }
      ],
      "metadata": {
        "datalore": {
          "node_id": "c53XoiljA3S1ZOxMYBIRmq",
          "type": "CODE",
          "hide_input_from_viewers": true,
          "hide_output_from_viewers": true
        },
        "id": "ZzwGXD3qKOAW",
        "colab": {
          "base_uri": "https://localhost:8080/"
        },
        "outputId": "555cafba-7ca2-464c-ed0b-511c2ecc0ab1"
      }
    },
    {
      "cell_type": "code",
      "source": [
        "# Calculate the Bayesian average for the BlitzBlend\n",
        "blitzblend_bayesian =  (3*3.24 + 1*1 + 4*2 + 6*3 + 12*4 + 2*5) / (3 + 1 + 4 + 6 + 12 + 2)\n",
        "\n",
        "blitzblend_bayesian"
      ],
      "execution_count": null,
      "outputs": [
        {
          "output_type": "execute_result",
          "data": {
            "text/plain": [
              "3.382857142857143"
            ]
          },
          "metadata": {},
          "execution_count": 26
        }
      ],
      "metadata": {
        "datalore": {
          "node_id": "iwx1TiGCCeDQVLJBsJhNbv",
          "type": "CODE",
          "hide_input_from_viewers": true,
          "hide_output_from_viewers": true
        },
        "id": "w0HlQlASKOAX",
        "colab": {
          "base_uri": "https://localhost:8080/"
        },
        "outputId": "b6741a29-cb14-4f10-eafe-366bf0a33d0d"
      }
    },
    {
      "cell_type": "code",
      "source": [
        "# Calculate the Bayesian average for the following products. Which has the higest rating:\n",
        "ninja_BN701 = [564,1209,3040,2542,7531]\n",
        "meuller_smart_stick = [254,940,1124,5127]\n",
        "\n",
        "# your code here\n",
        "def bayesian_average(reviews, m, c):\n",
        "    total_reviews = sum(reviews)\n",
        "    weighted_sum = sum(stars * count for stars, count in enumerate(reviews, start=1))\n",
        "    return (c * m + weighted_sum) / (c + total_reviews)\n",
        "\n",
        "# calling  the bayesian average funcction on the lists of reviews\n",
        "ninja_BN701_bayesian = bayesian_average(ninja_BN701, m, c)\n",
        "print(ninja_BN701_bayesian)\n",
        "meuller_smart_stick_bayesian = bayesian_average(meuller_smart_stick, m, c)\n",
        "print(meuller_smart_stick_bayesian)\n",
        "\n",
        "\n",
        "# Determine the highest-rated product\n",
        "product_ratings = {\n",
        "    \"Ninja BN701\": ninja_BN701_bayesian,\n",
        "    \"Meuller Smart Stick\": meuller_smart_stick_bayesian\n",
        "}\n",
        "highest_product = max(product_ratings, key=product_ratings.get)\n",
        "\n",
        "print(\"The highest rating is \" + str(product_ratings[highest_product]))\n",
        "\n",
        "\n",
        "\n"
      ],
      "execution_count": null,
      "outputs": [
        {
          "output_type": "stream",
          "name": "stdout",
          "text": [
            "4.02543622808785\n",
            "3.4940547798066595\n",
            "The highest rating is 4.02543622808785\n"
          ]
        }
      ],
      "metadata": {
        "datalore": {
          "node_id": "MP6xrvvv0cuaJBoqsRjps8",
          "type": "CODE",
          "hide_input_from_viewers": true,
          "hide_output_from_viewers": true
        },
        "id": "EfeFXNQ8KOAX",
        "colab": {
          "base_uri": "https://localhost:8080/"
        },
        "outputId": "fc7540d6-0ac2-497c-ab87-5f3814500144"
      }
    },
    {
      "cell_type": "markdown",
      "source": [
        "### Net Promoter Score (3 points)\n",
        "    \n",
        "The Net Promoter is a measure of the degree to which current customers will recommend a product, service, or company. It is a well-liked metric and remains quite popular as a measure of customer satisfaction. We will be looking at metrics over several lectures in this course. For now, all we need to know is how Net Promoter is calculated:    \n",
        "   \n",
        "Net Promoter = Percentage of promoters - percentage of detractors\n",
        "\n",
        "We will use 1-6 inclusive as a detractor (usually phrased as \"would not recommend\") and 9 or 10 as promoter (usually phrased as \"would recommend\").    \n",
        "    \n",
        "We will be using the Use NPScore-timeseries.csv in Module 1 on Canvas dataset. You need to go upload the data into Colab before you begin."
      ],
      "metadata": {
        "datalore": {
          "node_id": "OPIqoEr7lyVwlQhm2H7IGD",
          "type": "MD",
          "hide_input_from_viewers": true,
          "hide_output_from_viewers": true
        },
        "id": "pnAlH1Z3KOAX"
      }
    },
    {
      "cell_type": "code",
      "source": [
        "# You don't have to, but it is often useful to take a quick look at the data before you start.\n",
        "# That is entirely up to you, but I really recommend it, just to get a \"data smell\"\n",
        "# Start by reading the csv file into a dataframe\n",
        "\n",
        "import pandas as pd\n",
        "from google.colab import files\n",
        "df = pd.read_csv('/content/drive/My Drive/Colab Notebooks/NPScore-timeseries.csv')#i had to access the csv file from  google drive\n",
        "df.info()  #Run this to see what happens\n",
        "\n",
        "# Another useful command is something like\n",
        "df.isnull().sum()\n",
        "# which checks if there are any null values. You usuallly don't want them, and you can use something like\n",
        "df = df.dropna()\n",
        "# to just get rid of them\n",
        "\n",
        "# It is worth noting that \"just getting rid of them\" is usually not the best approach. It is important to understand\n",
        "# if the null values are randomly distributed or not. (Why?)\n",
        "# This will not be covered in this course."
      ],
      "execution_count": null,
      "outputs": [
        {
          "output_type": "stream",
          "name": "stdout",
          "text": [
            "<class 'pandas.core.frame.DataFrame'>\n",
            "RangeIndex: 5000 entries, 0 to 4999\n",
            "Data columns (total 7 columns):\n",
            " #   Column         Non-Null Count  Dtype \n",
            "---  ------         --------------  ----- \n",
            " 0   ID             5000 non-null   int64 \n",
            " 1   Market         5000 non-null   object\n",
            " 2   Survey date    5000 non-null   object\n",
            " 3   Customer Name  5000 non-null   object\n",
            " 4   Month          5000 non-null   int64 \n",
            " 5   Quarter        5000 non-null   int64 \n",
            " 6   NPS            5000 non-null   int64 \n",
            "dtypes: int64(4), object(3)\n",
            "memory usage: 273.6+ KB\n"
          ]
        }
      ],
      "metadata": {
        "datalore": {
          "node_id": "xTODjGCQ6jCSr4jIHmVSSP",
          "type": "CODE",
          "hide_input_from_viewers": true,
          "hide_output_from_viewers": true
        },
        "id": "LAEUAN6KKOAX",
        "colab": {
          "base_uri": "https://localhost:8080/"
        },
        "outputId": "15460c22-f084-42f1-899b-3a9c2802e18e"
      }
    },
    {
      "cell_type": "code",
      "source": [
        "from google.colab import drive\n",
        "drive.mount('/content/drive')"
      ],
      "metadata": {
        "colab": {
          "base_uri": "https://localhost:8080/"
        },
        "id": "jGR1HS-DmINC",
        "outputId": "64b489e1-20dc-413f-c6f6-09e99cc6e141"
      },
      "execution_count": null,
      "outputs": [
        {
          "output_type": "stream",
          "name": "stdout",
          "text": [
            "Drive already mounted at /content/drive; to attempt to forcibly remount, call drive.mount(\"/content/drive\", force_remount=True).\n"
          ]
        }
      ]
    },
    {
      "cell_type": "markdown",
      "source": [
        "# New Section"
      ],
      "metadata": {
        "id": "-ok9oyma8D5W"
      }
    },
    {
      "cell_type": "markdown",
      "source": [
        "# New Section"
      ],
      "metadata": {
        "id": "CzFyA00q8Eam"
      }
    },
    {
      "cell_type": "markdown",
      "source": [
        "Your data team neglected to send you a data dictionary, so you will have to work out which column has the scores in it. In this case it should be very obvious. But it isn't always. So get used to scratching around in the data to find out what columns mean.\n",
        "\n",
        "1. Draw a bar graph of the average Net Promoter Scores (NPS) over time.\n",
        "\n",
        "2. Draw a bar graph of the average Net Promoter Scores (NPS) by market segment.\n",
        "\n",
        "3. Calculate the net promoter score?"
      ],
      "metadata": {
        "id": "mRQ1uEngm4uQ"
      }
    },
    {
      "cell_type": "markdown",
      "source": [
        "#citation for chatgpt use here\n",
        "Date Accessed: February 4, 2025\n",
        "URL: https://chat.openai.com/\n",
        "\n",
        "Query: Can you help me with writing code to calculate the Net Promoter Score (NPS) and draw a bar graph of the scores?\n",
        "\n",
        "Response:"
      ],
      "metadata": {
        "id": "8x0MBWNj9YWb"
      }
    },
    {
      "cell_type": "code",
      "source": [
        "import matplotlib.pyplot as plt\n",
        "\n",
        "# Drawing a bar graph of NPS scores\n",
        "plt.figure(figsize=(10,5))\n",
        "df['NPS'].value_counts().sort_index().plot(kind='bar', color='skyblue')\n",
        "plt.xlabel('NPS Score')\n",
        "plt.ylabel('Frequency')\n",
        "plt.title('Distribution of NPS Scores')\n",
        "plt.xticks(rotation=45)\n",
        "plt.show()\n",
        "\n",
        "\n",
        "\n",
        "# Calculating the percentage of promoters and detractors\n",
        "promoters = df[df['NPS'] >= 9].shape[0]\n",
        "detractors = df[df['NPS'] <= 6].shape[0]\n",
        "total_responses = df.shape[0]\n",
        "\n",
        "# Calculating percentages\n",
        "promoter_percentage = (promoters / total_responses) * 100\n",
        "detractor_percentage = (detractors / total_responses) * 100\n",
        "\n",
        "# Calculate Net Promoter Score\n",
        "nps_score = promoter_percentage - detractor_percentage\n",
        "\n",
        "print(f'Net Promoter Score (NPS): {nps_score:.2f}')\n"
      ],
      "metadata": {
        "colab": {
          "base_uri": "https://localhost:8080/",
          "height": 1000
        },
        "collapsed": true,
        "id": "V6ci0t796kpE",
        "outputId": "8a0bceee-fa8d-4f96-df4c-67f83b0f7eea"
      },
      "execution_count": null,
      "outputs": [
        {
          "output_type": "error",
          "ename": "NameError",
          "evalue": "name 'df' is not defined",
          "traceback": [
            "\u001b[0;31m---------------------------------------------------------------------------\u001b[0m",
            "\u001b[0;31mNameError\u001b[0m                                 Traceback (most recent call last)",
            "\u001b[0;32m<ipython-input-21-0e18baa7b2c4>\u001b[0m in \u001b[0;36m<cell line: 0>\u001b[0;34m()\u001b[0m\n\u001b[1;32m      3\u001b[0m \u001b[0;31m# Drawing a bar graph of NPS scores\u001b[0m\u001b[0;34m\u001b[0m\u001b[0;34m\u001b[0m\u001b[0m\n\u001b[1;32m      4\u001b[0m \u001b[0mplt\u001b[0m\u001b[0;34m.\u001b[0m\u001b[0mfigure\u001b[0m\u001b[0;34m(\u001b[0m\u001b[0mfigsize\u001b[0m\u001b[0;34m=\u001b[0m\u001b[0;34m(\u001b[0m\u001b[0;36m10\u001b[0m\u001b[0;34m,\u001b[0m\u001b[0;36m5\u001b[0m\u001b[0;34m)\u001b[0m\u001b[0;34m)\u001b[0m\u001b[0;34m\u001b[0m\u001b[0;34m\u001b[0m\u001b[0m\n\u001b[0;32m----> 5\u001b[0;31m \u001b[0mdf\u001b[0m\u001b[0;34m[\u001b[0m\u001b[0;34m'NPS'\u001b[0m\u001b[0;34m]\u001b[0m\u001b[0;34m.\u001b[0m\u001b[0mvalue_counts\u001b[0m\u001b[0;34m(\u001b[0m\u001b[0;34m)\u001b[0m\u001b[0;34m.\u001b[0m\u001b[0msort_index\u001b[0m\u001b[0;34m(\u001b[0m\u001b[0;34m)\u001b[0m\u001b[0;34m.\u001b[0m\u001b[0mplot\u001b[0m\u001b[0;34m(\u001b[0m\u001b[0mkind\u001b[0m\u001b[0;34m=\u001b[0m\u001b[0;34m'bar'\u001b[0m\u001b[0;34m,\u001b[0m \u001b[0mcolor\u001b[0m\u001b[0;34m=\u001b[0m\u001b[0;34m'skyblue'\u001b[0m\u001b[0;34m)\u001b[0m\u001b[0;34m\u001b[0m\u001b[0;34m\u001b[0m\u001b[0m\n\u001b[0m\u001b[1;32m      6\u001b[0m \u001b[0mplt\u001b[0m\u001b[0;34m.\u001b[0m\u001b[0mxlabel\u001b[0m\u001b[0;34m(\u001b[0m\u001b[0;34m'NPS Score'\u001b[0m\u001b[0;34m)\u001b[0m\u001b[0;34m\u001b[0m\u001b[0;34m\u001b[0m\u001b[0m\n\u001b[1;32m      7\u001b[0m \u001b[0mplt\u001b[0m\u001b[0;34m.\u001b[0m\u001b[0mylabel\u001b[0m\u001b[0;34m(\u001b[0m\u001b[0;34m'Frequency'\u001b[0m\u001b[0;34m)\u001b[0m\u001b[0;34m\u001b[0m\u001b[0;34m\u001b[0m\u001b[0m\n",
            "\u001b[0;31mNameError\u001b[0m: name 'df' is not defined"
          ]
        },
        {
          "output_type": "display_data",
          "data": {
            "text/plain": [
              "<Figure size 1000x500 with 0 Axes>"
            ]
          },
          "metadata": {}
        }
      ]
    },
    {
      "cell_type": "code",
      "source": [
        "# Draw a bar graph of the scores\n",
        "# Your data team neglected to send you a data dictionary, so you will have to work out which\n",
        "# column has the scores in it. In this case it should be very obvious, but that is\n",
        "# very often not the case.\n",
        "# So get used to scratching around in the data to find out what columns mean.\n",
        "import matplotlib.pyplot as plt\n",
        "\n",
        "# Drawing a bar graph of NPS scores\n",
        "# my final code after consulting chatgpt\n",
        "plt.figure(figsize=(10,5))\n",
        "df['NPS'].value_counts().sort_index().plot(kind='bar', color='magenta')\n",
        "plt.xlabel('NPS Score')\n",
        "plt.ylabel('Frequency')\n",
        "plt.title('Distribution of NPS Scores')\n",
        "plt.xticks(rotation=45)\n",
        "plt.show()\n"
      ],
      "execution_count": null,
      "outputs": [
        {
          "output_type": "display_data",
          "data": {
            "text/plain": [
              "<Figure size 1000x500 with 1 Axes>"
            ],
            "image/png": "[encoded data removed]"
          },
          "metadata": {}
        }
      ],
      "metadata": {
        "datalore": {
          "node_id": "PqQxMrk3o29TeKgAsoxlov",
          "type": "CODE",
          "hide_input_from_viewers": true,
          "hide_output_from_viewers": true
        },
        "id": "z3AlOBsNKOAX",
        "colab": {
          "base_uri": "https://localhost:8080/",
          "height": 495
        },
        "outputId": "1083a651-1f5a-4922-a66e-571f929bf24a"
      }
    },
    {
      "cell_type": "code",
      "source": [
        "# Calculating the percentage of promoters and detractors\n",
        "promoters = df.query('NPS >= 9').shape[0]\n",
        "detractors = df.query('NPS <= 6').shape[0]\n",
        "total_responses = df.shape[0]\n",
        "\n",
        "# Calculating percentages\n",
        "promoter_percentage = (promoters / total_responses) * 100\n",
        "detractor_percentage = (detractors / total_responses) * 100\n",
        "\n",
        "# Calculate Net Promoter Score\n",
        "nps_score = promoter_percentage - detractor_percentage\n",
        "print('Net Promoter Score (NPS): ' + str(round(nps_score, 2)))\n"
      ],
      "metadata": {
        "colab": {
          "base_uri": "https://localhost:8080/"
        },
        "id": "Pvd3sNDT9sPj",
        "outputId": "75e41c17-da69-452f-d73d-0e86ac396a97"
      },
      "execution_count": null,
      "outputs": [
        {
          "output_type": "stream",
          "name": "stdout",
          "text": [
            "Net Promoter Score (NPS): 0.0\n"
          ]
        }
      ]
    },
    {
      "cell_type": "markdown",
      "source": [
        "## Part B: A|B testing (4 points)\n",
        "    \n",
        "Imagine that you are consulting with a new SAAS offering that is preparing for their new product launch. Their UX (User Experience) team consists of two people, Jo and Alex. The boss took one look at the landing page they have created and said that it needs a hero*. Unfortunately, Alex and Jo can't agree on which image to use, so they have called you in to assist with the decision. They have narrowed it down to two choices, an Image of the app on a phone on a blurred background (the 'product' treatment), or an image of an attractive person smiling and using the app (the 'person' treatment). Both of these have advantages: The first shows off the new product. This kind of presentation is very popular with tech companies, notably Apple. The second includes a person in the shot, and shows the product in use, so people can see how easy it is (or at least that is the idea).       \n",
        "     \n",
        "You propose that they conduct an A|B test. AB (also A or B, A/B, split, AB, etc) is a method of comparing different treatments of a variable, randomly exposing a subset of the audience to each of a number of options, and comparing this to an outcome. It is very commonly used in app and website optimization.      \n",
        "     \n",
        "Since this is a top of funnel marketing campaign, you have 'attract interest' as the next step in your customer journey. In this case, we are going to put 'find out more' on the hero, make the image clickable, and measure who clicks which of the two hero images. After three days of testing, you discover that there were 440 people sent to the 'product' page, and 452 sent to the 'person' page. We can also see that there were 113 clicks overall, which means that 779 did not.     \n",
        "    \n",
        "Let's enter this information into a comparison table:\n",
        "\n",
        "|               | product | person | total |\n",
        "|---------------|---------|--------|-------|\n",
        "| clicked       |         |        |  113  |\n",
        "| did not click |         |        |  779  |\n",
        "| total         | 440     | 452    |  892  |\n",
        "Table 1: Raw totals\n",
        "\n",
        "You are told that of the visitors to the product page, 62 clicked the banner. Simple math allows us to fill in the rest of the table.  \n",
        "\n",
        "|               | product | person | total |\n",
        "|---------------|---------|--------|-------|\n",
        "| clicked       | 62      | 46     | 113   |\n",
        "| did not click | 378     | 406    | 779   |\n",
        "| total         | 440     | 452    | 892   |\n",
        "Table 2: Full table\n",
        "\n",
        "The boss takes one look at these figures, and says that 60-something is way more than 40-something.    \n",
        "\n",
        "We are going to use a statistical test to determine if this is a significant difference. In general, the Chi squared test is preferred, and we need a p value of 0.05 or smaller to reject the null hypothesis. (We could use the z statistic or Fisher's exact test as well).\n",
        "\n",
        "And:     \n",
        "H0: There is no significant difference between the two images as measured by clickthrough.    \n",
        "H1: The images are significantly different as measured by clickthrough rate\n",
        "\n",
        "The next question is how many degrees of freedom do we have? An informal way to answer this is to look at Table 1. How many additional values do we need to add to complete the table? In this case, if we have any one of the values, we can work out all the others, so df=1. (We were told 62, but any of the missing values would have been enough).\n",
        "     \n",
        "     \n",
        "\\* A hero, hero image, hero header, pano or banner all refer to the same thing: An oversized image at the top of a page which provides a graphical introduction to your product or service offering. It is often, but not always, designed to create an emotional response in the viewer. In general, single large pictures test very well with most users. Compare the following websites:    \n",
        "- [66 Nord](https://www.66nord.com/) uses a full bleed hero. (What does \"full bleed\" mean?)\n",
        "- [Michi Ramen](https://michiramen.com/) puts their hero right at the top\n",
        "- [Nike](https://www.nike.com/) does not use a hero image, opting instead for either a composite image or short video, which is sometimes confusingly also called a hero\n",
        "- [SAS](https://www.sas.com/en_us/home.html) uses the layout for a hero, but (currently) a composite image and text."
      ],
      "metadata": {
        "datalore": {
          "node_id": "2fwlEf8r1q4MtwMenfmcFW",
          "type": "MD",
          "hide_input_from_viewers": true,
          "hide_output_from_viewers": true
        },
        "id": "EjW_6f8-KOAY"
      }
    },
    {
      "cell_type": "markdown",
      "source": [
        "1. Using the ```chi2_contingency``` function from SciPy, perform a Chi-squared test on the given observations and calculate the p-value. Does the calculated p-value indicate a significant difference between the two images as measured by clickthrough rate? In other words, is the p-value less than or equal to 0.05, leading us to reject the null hypothesis (H0) and accept the alternative hypothesis (H1)?\n"
      ],
      "metadata": {
        "id": "Vn9Caa86nbBd"
      }
    },
    {
      "cell_type": "markdown",
      "source": [
        "ChatGPT Citation\n",
        "URL of the Service Used: https://chat.openai.com/\n",
        "Date Accessed: February 4, 2025\n",
        "\n",
        "Query: \"Walk me through how you would perform the Chi-squared test\""
      ],
      "metadata": {
        "id": "5DarRdlPEqon"
      }
    },
    {
      "cell_type": "code",
      "source": [
        "#RESPONSE FOR chatgpt QUERY  influenced by chat gpt\n",
        "import numpy as np\n",
        "from scipy.stats import chi2_contingency\n",
        "\n",
        "# Observed data in the contingency table format\n",
        "observations = np.array([[62, 46], [378, 406]])\n",
        "\n",
        "# Perform the Chi-squared test\n",
        "chi2, p, dof, expected = chi2_contingency(observations)\n",
        "\n",
        "# Print the p-value\n",
        "print(f\"P-value: {p}\")\n"
      ],
      "metadata": {
        "colab": {
          "base_uri": "https://localhost:8080/",
          "height": 105
        },
        "collapsed": true,
        "id": "ltThMBopE0Pb",
        "outputId": "9b1f4f3c-f5a7-423a-965f-83bee6e9f4ae"
      },
      "execution_count": null,
      "outputs": [
        {
          "output_type": "error",
          "ename": "SyntaxError",
          "evalue": "invalid syntax (<ipython-input-25-501d97d89f74>, line 1)",
          "traceback": [
            "\u001b[0;36m  File \u001b[0;32m\"<ipython-input-25-501d97d89f74>\"\u001b[0;36m, line \u001b[0;32m1\u001b[0m\n\u001b[0;31m    RESPONSE FOR QUERY  influenced by chat gpt\u001b[0m\n\u001b[0m             ^\u001b[0m\n\u001b[0;31mSyntaxError\u001b[0m\u001b[0;31m:\u001b[0m invalid syntax\n"
          ]
        }
      ]
    },
    {
      "cell_type": "code",
      "source": [
        "#my actual response\n",
        "import numpy as np\n",
        "from scipy.stats import chi2_contingency\n",
        "\n",
        "# Do the test\n",
        "# then print out the p-value from the test.\n",
        "\n",
        "# Does this have a p-value of 0.05 or lower? If so, we are forced to reject H0 and must accept H1.\n",
        "\n",
        "# Using chi2_contingency, perform a Chi squared test and print out the p value\n",
        "\n",
        "observations = np.array([[62, 46], [378, 406]])# this is my final code chunk\n",
        "chi2, p, a, b = chi2_contingency(observations)\n",
        "print(p)"
      ],
      "execution_count": null,
      "outputs": [
        {
          "output_type": "stream",
          "name": "stdout",
          "text": [
            "0.09124550189509249\n"
          ]
        }
      ],
      "metadata": {
        "datalore": {
          "node_id": "H5fByVgPQeHoxbVEyxhztm",
          "type": "CODE",
          "hide_input_from_viewers": true,
          "hide_output_from_viewers": true
        },
        "id": "PWYn1cFdKOAY",
        "colab": {
          "base_uri": "https://localhost:8080/"
        },
        "outputId": "be4a66de-27e8-443e-9763-b87c04306651"
      }
    },
    {
      "cell_type": "markdown",
      "source": [
        "2. What is your conclusion? Are you able to recommend one option to your boss?:\n",
        "\n",
        "Given that the p-value of 0.091 exceeds the 0.05 significance level, we fail to reject the null hypothesis (H0). Meaning, there is no statistically significant difference in clickthrough rates between the two heros. As a result, I cannot definitively say that one image performs better than the other."
      ],
      "metadata": {
        "id": "vPYSRxP2n0vZ"
      }
    },
    {
      "cell_type": "markdown",
      "source": [
        "\n",
        "\n",
        "Finally, there is a lot to A|B testing - this introductory exercise just demonstrated the overall process. It is a very powerful technique, and can be set up to run on your website automatically. That is, you can create a pipeline where your users are continuously exposed to small changes. A process measures the results with an A|B test, and as soon as a p value of 0.05 is reached, the \"winning\" option is selected and the next A|B test begins. Because each \"bucket\" only needs 50 or more values, it is very easy to do, even with a small number of website visitors. It is also easy to use the Chi-squared test to compare more than two options, so you can do A|B|C|D testing (or whatever).     \n",
        "     \n",
        "That process allows you to fine tune your website and test hundreds of options. While not machine learning in the traditional sense, it allows you to really improve your click through rates over time. These small changes can really add up.   \n",
        "    \n",
        "Just this simple idea is a $3.2Bn market. [With a B.](https://www.yahoo.com/now/ab-testing-software-market-expected-133000366.html?guccounter=1&guce_referrer=aHR0cHM6Ly93d3cuZ29vZ2xlLmNvbS8&guce_referrer_sig=AQAAAEr9SC_mRZw26vTKGYFeH6R9j0_jkvs-KD1VpnvDwW3aMwSkYJv4XLk7c1eSyEmhXOUosHBTerhmNbqSXSb8xNN6zjAWjQsoCBuM9oMFziUivqIiXM59ei53ruE0FItbyr57kWoqJYC8vuEtilsKT-cO-gh8yUaFoDhQ-D3PYMvM) According to that article, it has > 11% CAGR. That should give you some idea how much money these small increments can mean for an e-commerce company."
      ],
      "metadata": {
        "datalore": {
          "node_id": "8lWtDKWsZLuRakCZ5uaT0x",
          "type": "MD",
          "hide_input_from_viewers": true,
          "hide_output_from_viewers": true
        },
        "id": "4F8OFWl7KOAZ"
      }
    },
    {
      "cell_type": "markdown",
      "source": [
        "### Some thoughts on A|B tests\n",
        "\n",
        "A|B testing is very powerful, but has a number of limitations - there's a sweet spot where it does execeptionally well. The key to a successful test regime is having a big enough change to have an effect which makes it worth testing, but not so complicated a test that A|B testing is useless. In the words of Joanne Rodrigues in Product Analytics, \"too many useless things get A/B tested, and many complicated A|B tests are useless.\"\n",
        "\n",
        "Use A|B testing for things like the impact of an image, an algorithm change, subject lines changes, where in a funnel you contact people, etc. Sets of closely related behavioral interventions. A|B tests will only test choices you provide, and does that very, very well. It is not an exploratory technique, and if you are asking the wrong question, the test will let you confidently draw the wrong conclusion. If you are headed in the wrong direction, an A|B test will not provide you evidence to change. For example, trying to answer \"Should I gamify my web app\" is not the best application. When used correctly it is an absolutely vital tool in your toolkit."
      ],
      "metadata": {
        "datalore": {
          "node_id": "dgUY850er5ZLYUPtZKUose",
          "type": "MD",
          "hide_input_from_viewers": true,
          "hide_output_from_viewers": true
        },
        "id": "bYTZhy5iKOAZ"
      }
    },
    {
      "cell_type": "markdown",
      "source": [
        "## Part C: Customer Retention (6 points)\n",
        "    \n",
        "You are thinking of launching a new phone app which links to a merch web store. You have beta tested your app with 10 customers, and today you would like to understand if there is a relationship between how long they have the app installed on their phone and the amount they spend on your website.\n",
        "\n",
        "Here is the table showing observations of customer retention in days and the amount they spend on your merch website in dollars per day for your 10 beta customers.\n",
        "\n",
        "| Observation | Retention | Spend |\n",
        "|-------------|-----------|-------|\n",
        "| 1           | 3         | 0     |\n",
        "| 2           | 5         | 10    |\n",
        "| 3           | 7         | 15    |\n",
        "| 4           | 1         | 2     |\n",
        "| 5           | 12        | 17    |\n",
        "| 6           | 16        | 3     |\n",
        "| 7           | 34        | 52    |\n",
        "| 8           | 18        | 1     |\n",
        "| 9           | 1         | 0     |\n",
        "| 10          | 24        | 16    |\n",
        "\n"
      ],
      "metadata": {
        "datalore": {
          "node_id": "wu2J6UWGHQVJ18eqYWTrAn",
          "type": "MD",
          "hide_input_from_viewers": true,
          "hide_output_from_viewers": true
        },
        "id": "N96rObwEKOAZ"
      }
    },
    {
      "cell_type": "code",
      "source": [
        "# 1. Create a pandas dataframe called spendcalc and put this data in the dataframe. Make sure the name the columns correctly.\n",
        "\n",
        "# your code here\n",
        "import pandas as pd\n",
        "\n",
        "data = {\n",
        "    'Retention': [3, 5, 7, 1, 12, 16, 34, 18, 1, 24],\n",
        "    'Spend': [0, 10, 15, 2, 17, 3, 52, 1, 0, 16]\n",
        "}\n",
        "spendcalc = pd.DataFrame(data)\n",
        "\n",
        "spendcalc # this will print out the dataframe, or if lit is very large, a representation of it"
      ],
      "execution_count": null,
      "outputs": [
        {
          "output_type": "execute_result",
          "data": {
            "text/plain": [
              "   Retention  Spend\n",
              "0          3      0\n",
              "1          5     10\n",
              "2          7     15\n",
              "3          1      2\n",
              "4         12     17\n",
              "5         16      3\n",
              "6         34     52\n",
              "7         18      1\n",
              "8          1      0\n",
              "9         24     16"
            ],
            "text/html": [
              "\n",
              "  <div id=\"df-3a73cbae-2b51-40f2-93e4-eefbf8a25c54\" class=\"colab-df-container\">\n",
              "    <div>\n",
              "<style scoped>\n",
              "    .dataframe tbody tr th:only-of-type {\n",
              "        vertical-align: middle;\n",
              "    }\n",
              "\n",
              "    .dataframe tbody tr th {\n",
              "        vertical-align: top;\n",
              "    }\n",
              "\n",
              "    .dataframe thead th {\n",
              "        text-align: right;\n",
              "    }\n",
              "</style>\n",
              "<table border=\"1\" class=\"dataframe\">\n",
              "  <thead>\n",
              "    <tr style=\"text-align: right;\">\n",
              "      <th></th>\n",
              "      <th>Retention</th>\n",
              "      <th>Spend</th>\n",
              "    </tr>\n",
              "  </thead>\n",
              "  <tbody>\n",
              "    <tr>\n",
              "      <th>0</th>\n",
              "      <td>3</td>\n",
              "      <td>0</td>\n",
              "    </tr>\n",
              "    <tr>\n",
              "      <th>1</th>\n",
              "      <td>5</td>\n",
              "      <td>10</td>\n",
              "    </tr>\n",
              "    <tr>\n",
              "      <th>2</th>\n",
              "      <td>7</td>\n",
              "      <td>15</td>\n",
              "    </tr>\n",
              "    <tr>\n",
              "      <th>3</th>\n",
              "      <td>1</td>\n",
              "      <td>2</td>\n",
              "    </tr>\n",
              "    <tr>\n",
              "      <th>4</th>\n",
              "      <td>12</td>\n",
              "      <td>17</td>\n",
              "    </tr>\n",
              "    <tr>\n",
              "      <th>5</th>\n",
              "      <td>16</td>\n",
              "      <td>3</td>\n",
              "    </tr>\n",
              "    <tr>\n",
              "      <th>6</th>\n",
              "      <td>34</td>\n",
              "      <td>52</td>\n",
              "    </tr>\n",
              "    <tr>\n",
              "      <th>7</th>\n",
              "      <td>18</td>\n",
              "      <td>1</td>\n",
              "    </tr>\n",
              "    <tr>\n",
              "      <th>8</th>\n",
              "      <td>1</td>\n",
              "      <td>0</td>\n",
              "    </tr>\n",
              "    <tr>\n",
              "      <th>9</th>\n",
              "      <td>24</td>\n",
              "      <td>16</td>\n",
              "    </tr>\n",
              "  </tbody>\n",
              "</table>\n",
              "</div>\n",
              "    <div class=\"colab-df-buttons\">\n",
              "\n",
              "  <div class=\"colab-df-container\">\n",
              "    <button class=\"colab-df-convert\" onclick=\"convertToInteractive('df-3a73cbae-2b51-40f2-93e4-eefbf8a25c54')\"\n",
              "            title=\"Convert this dataframe to an interactive table.\"\n",
              "            style=\"display:none;\">\n",
              "\n",
              "  <svg xmlns=\"http://www.w3.org/2000/svg\" height=\"24px\" viewBox=\"0 -960 960 960\">\n",
              "    <path d=\"M120-120v-720h720v720H120Zm60-500h600v-160H180v160Zm220 220h160v-160H400v160Zm0 220h160v-160H400v160ZM180-400h160v-160H180v160Zm440 0h160v-160H620v160ZM180-180h160v-160H180v160Zm440 0h160v-160H620v160Z\"/>\n",
              "  </svg>\n",
              "    </button>\n",
              "\n",
              "  <style>\n",
              "    .colab-df-container {\n",
              "      display:flex;\n",
              "      gap: 12px;\n",
              "    }\n",
              "\n",
              "    .colab-df-convert {\n",
              "      background-color: #E8F0FE;\n",
              "      border: none;\n",
              "      border-radius: 50%;\n",
              "      cursor: pointer;\n",
              "      display: none;\n",
              "      fill: #1967D2;\n",
              "      height: 32px;\n",
              "      padding: 0 0 0 0;\n",
              "      width: 32px;\n",
              "    }\n",
              "\n",
              "    .colab-df-convert:hover {\n",
              "      background-color: #E2EBFA;\n",
              "      box-shadow: 0px 1px 2px rgba(60, 64, 67, 0.3), 0px 1px 3px 1px rgba(60, 64, 67, 0.15);\n",
              "      fill: #174EA6;\n",
              "    }\n",
              "\n",
              "    .colab-df-buttons div {\n",
              "      margin-bottom: 4px;\n",
              "    }\n",
              "\n",
              "    [theme=dark] .colab-df-convert {\n",
              "      background-color: #3B4455;\n",
              "      fill: #D2E3FC;\n",
              "    }\n",
              "\n",
              "    [theme=dark] .colab-df-convert:hover {\n",
              "      background-color: #434B5C;\n",
              "      box-shadow: 0px 1px 3px 1px rgba(0, 0, 0, 0.15);\n",
              "      filter: drop-shadow(0px 1px 2px rgba(0, 0, 0, 0.3));\n",
              "      fill: #FFFFFF;\n",
              "    }\n",
              "  </style>\n",
              "\n",
              "    <script>\n",
              "      const buttonEl =\n",
              "        document.querySelector('#df-3a73cbae-2b51-40f2-93e4-eefbf8a25c54 button.colab-df-convert');\n",
              "      buttonEl.style.display =\n",
              "        google.colab.kernel.accessAllowed ? 'block' : 'none';\n",
              "\n",
              "      async function convertToInteractive(key) {\n",
              "        const element = document.querySelector('#df-3a73cbae-2b51-40f2-93e4-eefbf8a25c54');\n",
              "        const dataTable =\n",
              "          await google.colab.kernel.invokeFunction('convertToInteractive',\n",
              "                                                    [key], {});\n",
              "        if (!dataTable) return;\n",
              "\n",
              "        const docLinkHtml = 'Like what you see? Visit the ' +\n",
              "          '<a target=\"_blank\" href=https://colab.research.google.com/notebooks/data_table.ipynb>data table notebook</a>'\n",
              "          + ' to learn more about interactive tables.';\n",
              "        element.innerHTML = '';\n",
              "        dataTable['output_type'] = 'display_data';\n",
              "        await google.colab.output.renderOutput(dataTable, element);\n",
              "        const docLink = document.createElement('div');\n",
              "        docLink.innerHTML = docLinkHtml;\n",
              "        element.appendChild(docLink);\n",
              "      }\n",
              "    </script>\n",
              "  </div>\n",
              "\n",
              "\n",
              "<div id=\"df-630772c3-cbc8-442b-b325-423ecc7dc642\">\n",
              "  <button class=\"colab-df-quickchart\" onclick=\"quickchart('df-630772c3-cbc8-442b-b325-423ecc7dc642')\"\n",
              "            title=\"Suggest charts\"\n",
              "            style=\"display:none;\">\n",
              "\n",
              "<svg xmlns=\"http://www.w3.org/2000/svg\" height=\"24px\"viewBox=\"0 0 24 24\"\n",
              "     width=\"24px\">\n",
              "    <g>\n",
              "        <path d=\"M19 3H5c-1.1 0-2 .9-2 2v14c0 1.1.9 2 2 2h14c1.1 0 2-.9 2-2V5c0-1.1-.9-2-2-2zM9 17H7v-7h2v7zm4 0h-2V7h2v10zm4 0h-2v-4h2v4z\"/>\n",
              "    </g>\n",
              "</svg>\n",
              "  </button>\n",
              "\n",
              "<style>\n",
              "  .colab-df-quickchart {\n",
              "      --bg-color: #E8F0FE;\n",
              "      --fill-color: #1967D2;\n",
              "      --hover-bg-color: #E2EBFA;\n",
              "      --hover-fill-color: #174EA6;\n",
              "      --disabled-fill-color: #AAA;\n",
              "      --disabled-bg-color: #DDD;\n",
              "  }\n",
              "\n",
              "  [theme=dark] .colab-df-quickchart {\n",
              "      --bg-color: #3B4455;\n",
              "      --fill-color: #D2E3FC;\n",
              "      --hover-bg-color: #434B5C;\n",
              "      --hover-fill-color: #FFFFFF;\n",
              "      --disabled-bg-color: #3B4455;\n",
              "      --disabled-fill-color: #666;\n",
              "  }\n",
              "\n",
              "  .colab-df-quickchart {\n",
              "    background-color: var(--bg-color);\n",
              "    border: none;\n",
              "    border-radius: 50%;\n",
              "    cursor: pointer;\n",
              "    display: none;\n",
              "    fill: var(--fill-color);\n",
              "    height: 32px;\n",
              "    padding: 0;\n",
              "    width: 32px;\n",
              "  }\n",
              "\n",
              "  .colab-df-quickchart:hover {\n",
              "    background-color: var(--hover-bg-color);\n",
              "    box-shadow: 0 1px 2px rgba(60, 64, 67, 0.3), 0 1px 3px 1px rgba(60, 64, 67, 0.15);\n",
              "    fill: var(--button-hover-fill-color);\n",
              "  }\n",
              "\n",
              "  .colab-df-quickchart-complete:disabled,\n",
              "  .colab-df-quickchart-complete:disabled:hover {\n",
              "    background-color: var(--disabled-bg-color);\n",
              "    fill: var(--disabled-fill-color);\n",
              "    box-shadow: none;\n",
              "  }\n",
              "\n",
              "  .colab-df-spinner {\n",
              "    border: 2px solid var(--fill-color);\n",
              "    border-color: transparent;\n",
              "    border-bottom-color: var(--fill-color);\n",
              "    animation:\n",
              "      spin 1s steps(1) infinite;\n",
              "  }\n",
              "\n",
              "  @keyframes spin {\n",
              "    0% {\n",
              "      border-color: transparent;\n",
              "      border-bottom-color: var(--fill-color);\n",
              "      border-left-color: var(--fill-color);\n",
              "    }\n",
              "    20% {\n",
              "      border-color: transparent;\n",
              "      border-left-color: var(--fill-color);\n",
              "      border-top-color: var(--fill-color);\n",
              "    }\n",
              "    30% {\n",
              "      border-color: transparent;\n",
              "      border-left-color: var(--fill-color);\n",
              "      border-top-color: var(--fill-color);\n",
              "      border-right-color: var(--fill-color);\n",
              "    }\n",
              "    40% {\n",
              "      border-color: transparent;\n",
              "      border-right-color: var(--fill-color);\n",
              "      border-top-color: var(--fill-color);\n",
              "    }\n",
              "    60% {\n",
              "      border-color: transparent;\n",
              "      border-right-color: var(--fill-color);\n",
              "    }\n",
              "    80% {\n",
              "      border-color: transparent;\n",
              "      border-right-color: var(--fill-color);\n",
              "      border-bottom-color: var(--fill-color);\n",
              "    }\n",
              "    90% {\n",
              "      border-color: transparent;\n",
              "      border-bottom-color: var(--fill-color);\n",
              "    }\n",
              "  }\n",
              "</style>\n",
              "\n",
              "  <script>\n",
              "    async function quickchart(key) {\n",
              "      const quickchartButtonEl =\n",
              "        document.querySelector('#' + key + ' button');\n",
              "      quickchartButtonEl.disabled = true;  // To prevent multiple clicks.\n",
              "      quickchartButtonEl.classList.add('colab-df-spinner');\n",
              "      try {\n",
              "        const charts = await google.colab.kernel.invokeFunction(\n",
              "            'suggestCharts', [key], {});\n",
              "      } catch (error) {\n",
              "        console.error('Error during call to suggestCharts:', error);\n",
              "      }\n",
              "      quickchartButtonEl.classList.remove('colab-df-spinner');\n",
              "      quickchartButtonEl.classList.add('colab-df-quickchart-complete');\n",
              "    }\n",
              "    (() => {\n",
              "      let quickchartButtonEl =\n",
              "        document.querySelector('#df-630772c3-cbc8-442b-b325-423ecc7dc642 button');\n",
              "      quickchartButtonEl.style.display =\n",
              "        google.colab.kernel.accessAllowed ? 'block' : 'none';\n",
              "    })();\n",
              "  </script>\n",
              "</div>\n",
              "\n",
              "  <div id=\"id_3d664a45-813e-47ab-b322-29e75d4a26b7\">\n",
              "    <style>\n",
              "      .colab-df-generate {\n",
              "        background-color: #E8F0FE;\n",
              "        border: none;\n",
              "        border-radius: 50%;\n",
              "        cursor: pointer;\n",
              "        display: none;\n",
              "        fill: #1967D2;\n",
              "        height: 32px;\n",
              "        padding: 0 0 0 0;\n",
              "        width: 32px;\n",
              "      }\n",
              "\n",
              "      .colab-df-generate:hover {\n",
              "        background-color: #E2EBFA;\n",
              "        box-shadow: 0px 1px 2px rgba(60, 64, 67, 0.3), 0px 1px 3px 1px rgba(60, 64, 67, 0.15);\n",
              "        fill: #174EA6;\n",
              "      }\n",
              "\n",
              "      [theme=dark] .colab-df-generate {\n",
              "        background-color: #3B4455;\n",
              "        fill: #D2E3FC;\n",
              "      }\n",
              "\n",
              "      [theme=dark] .colab-df-generate:hover {\n",
              "        background-color: #434B5C;\n",
              "        box-shadow: 0px 1px 3px 1px rgba(0, 0, 0, 0.15);\n",
              "        filter: drop-shadow(0px 1px 2px rgba(0, 0, 0, 0.3));\n",
              "        fill: #FFFFFF;\n",
              "      }\n",
              "    </style>\n",
              "    <button class=\"colab-df-generate\" onclick=\"generateWithVariable('spendcalc')\"\n",
              "            title=\"Generate code using this dataframe.\"\n",
              "            style=\"display:none;\">\n",
              "\n",
              "  <svg xmlns=\"http://www.w3.org/2000/svg\" height=\"24px\"viewBox=\"0 0 24 24\"\n",
              "       width=\"24px\">\n",
              "    <path d=\"M7,19H8.4L18.45,9,17,7.55,7,17.6ZM5,21V16.75L18.45,3.32a2,2,0,0,1,2.83,0l1.4,1.43a1.91,1.91,0,0,1,.58,1.4,1.91,1.91,0,0,1-.58,1.4L9.25,21ZM18.45,9,17,7.55Zm-12,3A5.31,5.31,0,0,0,4.9,8.1,5.31,5.31,0,0,0,1,6.5,5.31,5.31,0,0,0,4.9,4.9,5.31,5.31,0,0,0,6.5,1,5.31,5.31,0,0,0,8.1,4.9,5.31,5.31,0,0,0,12,6.5,5.46,5.46,0,0,0,6.5,12Z\"/>\n",
              "  </svg>\n",
              "    </button>\n",
              "    <script>\n",
              "      (() => {\n",
              "      const buttonEl =\n",
              "        document.querySelector('#id_3d664a45-813e-47ab-b322-29e75d4a26b7 button.colab-df-generate');\n",
              "      buttonEl.style.display =\n",
              "        google.colab.kernel.accessAllowed ? 'block' : 'none';\n",
              "\n",
              "      buttonEl.onclick = () => {\n",
              "        google.colab.notebook.generateWithVariable('spendcalc');\n",
              "      }\n",
              "      })();\n",
              "    </script>\n",
              "  </div>\n",
              "\n",
              "    </div>\n",
              "  </div>\n"
            ],
            "application/vnd.google.colaboratory.intrinsic+json": {
              "type": "dataframe",
              "variable_name": "spendcalc",
              "summary": "{\n  \"name\": \"spendcalc\",\n  \"rows\": 10,\n  \"fields\": [\n    {\n      \"column\": \"Retention\",\n      \"properties\": {\n        \"dtype\": \"number\",\n        \"std\": 10,\n        \"min\": 1,\n        \"max\": 34,\n        \"num_unique_values\": 9,\n        \"samples\": [\n          18,\n          5,\n          16\n        ],\n        \"semantic_type\": \"\",\n        \"description\": \"\"\n      }\n    },\n    {\n      \"column\": \"Spend\",\n      \"properties\": {\n        \"dtype\": \"number\",\n        \"std\": 15,\n        \"min\": 0,\n        \"max\": 52,\n        \"num_unique_values\": 9,\n        \"samples\": [\n          1,\n          10,\n          3\n        ],\n        \"semantic_type\": \"\",\n        \"description\": \"\"\n      }\n    }\n  ]\n}"
            }
          },
          "metadata": {},
          "execution_count": 45
        }
      ],
      "metadata": {
        "datalore": {
          "node_id": "6LCBkTPJZdwAXv986pb0Eq",
          "type": "CODE",
          "hide_input_from_viewers": true,
          "hide_output_from_viewers": true
        },
        "id": "GW3SD8yAKOAZ",
        "colab": {
          "base_uri": "https://localhost:8080/",
          "height": 359
        },
        "outputId": "f5196c9e-6733-4ac6-f559-b10ac2ceb828"
      }
    },
    {
      "cell_type": "code",
      "source": [
        "# 2. Add three more columns, called XY, x2 (for x squared) and y2 (likewise).\n",
        "# calculate Retention (x) * Spend (y), x squared and y squared with the results in the appropriate columns\n",
        "\n",
        "# your code here\n",
        "\n",
        "import numpy as np\n",
        "\n",
        "spendcalc['XY'] = np.multiply(spendcalc['Retention'], spendcalc['Spend'])\n",
        "spendcalc['x2'] = np.square(spendcalc['Retention'])\n",
        "spendcalc['y2'] = np.square(spendcalc['Spend'])\n",
        "spendcalc"
      ],
      "execution_count": null,
      "outputs": [
        {
          "output_type": "execute_result",
          "data": {
            "text/plain": [
              "   Retention  Spend    XY    x2    y2\n",
              "0          3      0     0     9     0\n",
              "1          5     10    50    25   100\n",
              "2          7     15   105    49   225\n",
              "3          1      2     2     1     4\n",
              "4         12     17   204   144   289\n",
              "5         16      3    48   256     9\n",
              "6         34     52  1768  1156  2704\n",
              "7         18      1    18   324     1\n",
              "8          1      0     0     1     0\n",
              "9         24     16   384   576   256"
            ],
            "text/html": [
              "\n",
              "  <div id=\"df-1c2a6287-3c20-4bc8-98c3-63e67b5ad3d1\" class=\"colab-df-container\">\n",
              "    <div>\n",
              "<style scoped>\n",
              "    .dataframe tbody tr th:only-of-type {\n",
              "        vertical-align: middle;\n",
              "    }\n",
              "\n",
              "    .dataframe tbody tr th {\n",
              "        vertical-align: top;\n",
              "    }\n",
              "\n",
              "    .dataframe thead th {\n",
              "        text-align: right;\n",
              "    }\n",
              "</style>\n",
              "<table border=\"1\" class=\"dataframe\">\n",
              "  <thead>\n",
              "    <tr style=\"text-align: right;\">\n",
              "      <th></th>\n",
              "      <th>Retention</th>\n",
              "      <th>Spend</th>\n",
              "      <th>XY</th>\n",
              "      <th>x2</th>\n",
              "      <th>y2</th>\n",
              "    </tr>\n",
              "  </thead>\n",
              "  <tbody>\n",
              "    <tr>\n",
              "      <th>0</th>\n",
              "      <td>3</td>\n",
              "      <td>0</td>\n",
              "      <td>0</td>\n",
              "      <td>9</td>\n",
              "      <td>0</td>\n",
              "    </tr>\n",
              "    <tr>\n",
              "      <th>1</th>\n",
              "      <td>5</td>\n",
              "      <td>10</td>\n",
              "      <td>50</td>\n",
              "      <td>25</td>\n",
              "      <td>100</td>\n",
              "    </tr>\n",
              "    <tr>\n",
              "      <th>2</th>\n",
              "      <td>7</td>\n",
              "      <td>15</td>\n",
              "      <td>105</td>\n",
              "      <td>49</td>\n",
              "      <td>225</td>\n",
              "    </tr>\n",
              "    <tr>\n",
              "      <th>3</th>\n",
              "      <td>1</td>\n",
              "      <td>2</td>\n",
              "      <td>2</td>\n",
              "      <td>1</td>\n",
              "      <td>4</td>\n",
              "    </tr>\n",
              "    <tr>\n",
              "      <th>4</th>\n",
              "      <td>12</td>\n",
              "      <td>17</td>\n",
              "      <td>204</td>\n",
              "      <td>144</td>\n",
              "      <td>289</td>\n",
              "    </tr>\n",
              "    <tr>\n",
              "      <th>5</th>\n",
              "      <td>16</td>\n",
              "      <td>3</td>\n",
              "      <td>48</td>\n",
              "      <td>256</td>\n",
              "      <td>9</td>\n",
              "    </tr>\n",
              "    <tr>\n",
              "      <th>6</th>\n",
              "      <td>34</td>\n",
              "      <td>52</td>\n",
              "      <td>1768</td>\n",
              "      <td>1156</td>\n",
              "      <td>2704</td>\n",
              "    </tr>\n",
              "    <tr>\n",
              "      <th>7</th>\n",
              "      <td>18</td>\n",
              "      <td>1</td>\n",
              "      <td>18</td>\n",
              "      <td>324</td>\n",
              "      <td>1</td>\n",
              "    </tr>\n",
              "    <tr>\n",
              "      <th>8</th>\n",
              "      <td>1</td>\n",
              "      <td>0</td>\n",
              "      <td>0</td>\n",
              "      <td>1</td>\n",
              "      <td>0</td>\n",
              "    </tr>\n",
              "    <tr>\n",
              "      <th>9</th>\n",
              "      <td>24</td>\n",
              "      <td>16</td>\n",
              "      <td>384</td>\n",
              "      <td>576</td>\n",
              "      <td>256</td>\n",
              "    </tr>\n",
              "  </tbody>\n",
              "</table>\n",
              "</div>\n",
              "    <div class=\"colab-df-buttons\">\n",
              "\n",
              "  <div class=\"colab-df-container\">\n",
              "    <button class=\"colab-df-convert\" onclick=\"convertToInteractive('df-1c2a6287-3c20-4bc8-98c3-63e67b5ad3d1')\"\n",
              "            title=\"Convert this dataframe to an interactive table.\"\n",
              "            style=\"display:none;\">\n",
              "\n",
              "  <svg xmlns=\"http://www.w3.org/2000/svg\" height=\"24px\" viewBox=\"0 -960 960 960\">\n",
              "    <path d=\"M120-120v-720h720v720H120Zm60-500h600v-160H180v160Zm220 220h160v-160H400v160Zm0 220h160v-160H400v160ZM180-400h160v-160H180v160Zm440 0h160v-160H620v160ZM180-180h160v-160H180v160Zm440 0h160v-160H620v160Z\"/>\n",
              "  </svg>\n",
              "    </button>\n",
              "\n",
              "  <style>\n",
              "    .colab-df-container {\n",
              "      display:flex;\n",
              "      gap: 12px;\n",
              "    }\n",
              "\n",
              "    .colab-df-convert {\n",
              "      background-color: #E8F0FE;\n",
              "      border: none;\n",
              "      border-radius: 50%;\n",
              "      cursor: pointer;\n",
              "      display: none;\n",
              "      fill: #1967D2;\n",
              "      height: 32px;\n",
              "      padding: 0 0 0 0;\n",
              "      width: 32px;\n",
              "    }\n",
              "\n",
              "    .colab-df-convert:hover {\n",
              "      background-color: #E2EBFA;\n",
              "      box-shadow: 0px 1px 2px rgba(60, 64, 67, 0.3), 0px 1px 3px 1px rgba(60, 64, 67, 0.15);\n",
              "      fill: #174EA6;\n",
              "    }\n",
              "\n",
              "    .colab-df-buttons div {\n",
              "      margin-bottom: 4px;\n",
              "    }\n",
              "\n",
              "    [theme=dark] .colab-df-convert {\n",
              "      background-color: #3B4455;\n",
              "      fill: #D2E3FC;\n",
              "    }\n",
              "\n",
              "    [theme=dark] .colab-df-convert:hover {\n",
              "      background-color: #434B5C;\n",
              "      box-shadow: 0px 1px 3px 1px rgba(0, 0, 0, 0.15);\n",
              "      filter: drop-shadow(0px 1px 2px rgba(0, 0, 0, 0.3));\n",
              "      fill: #FFFFFF;\n",
              "    }\n",
              "  </style>\n",
              "\n",
              "    <script>\n",
              "      const buttonEl =\n",
              "        document.querySelector('#df-1c2a6287-3c20-4bc8-98c3-63e67b5ad3d1 button.colab-df-convert');\n",
              "      buttonEl.style.display =\n",
              "        google.colab.kernel.accessAllowed ? 'block' : 'none';\n",
              "\n",
              "      async function convertToInteractive(key) {\n",
              "        const element = document.querySelector('#df-1c2a6287-3c20-4bc8-98c3-63e67b5ad3d1');\n",
              "        const dataTable =\n",
              "          await google.colab.kernel.invokeFunction('convertToInteractive',\n",
              "                                                    [key], {});\n",
              "        if (!dataTable) return;\n",
              "\n",
              "        const docLinkHtml = 'Like what you see? Visit the ' +\n",
              "          '<a target=\"_blank\" href=https://colab.research.google.com/notebooks/data_table.ipynb>data table notebook</a>'\n",
              "          + ' to learn more about interactive tables.';\n",
              "        element.innerHTML = '';\n",
              "        dataTable['output_type'] = 'display_data';\n",
              "        await google.colab.output.renderOutput(dataTable, element);\n",
              "        const docLink = document.createElement('div');\n",
              "        docLink.innerHTML = docLinkHtml;\n",
              "        element.appendChild(docLink);\n",
              "      }\n",
              "    </script>\n",
              "  </div>\n",
              "\n",
              "\n",
              "<div id=\"df-8ec490e0-4955-4308-95b5-a2471435399f\">\n",
              "  <button class=\"colab-df-quickchart\" onclick=\"quickchart('df-8ec490e0-4955-4308-95b5-a2471435399f')\"\n",
              "            title=\"Suggest charts\"\n",
              "            style=\"display:none;\">\n",
              "\n",
              "<svg xmlns=\"http://www.w3.org/2000/svg\" height=\"24px\"viewBox=\"0 0 24 24\"\n",
              "     width=\"24px\">\n",
              "    <g>\n",
              "        <path d=\"M19 3H5c-1.1 0-2 .9-2 2v14c0 1.1.9 2 2 2h14c1.1 0 2-.9 2-2V5c0-1.1-.9-2-2-2zM9 17H7v-7h2v7zm4 0h-2V7h2v10zm4 0h-2v-4h2v4z\"/>\n",
              "    </g>\n",
              "</svg>\n",
              "  </button>\n",
              "\n",
              "<style>\n",
              "  .colab-df-quickchart {\n",
              "      --bg-color: #E8F0FE;\n",
              "      --fill-color: #1967D2;\n",
              "      --hover-bg-color: #E2EBFA;\n",
              "      --hover-fill-color: #174EA6;\n",
              "      --disabled-fill-color: #AAA;\n",
              "      --disabled-bg-color: #DDD;\n",
              "  }\n",
              "\n",
              "  [theme=dark] .colab-df-quickchart {\n",
              "      --bg-color: #3B4455;\n",
              "      --fill-color: #D2E3FC;\n",
              "      --hover-bg-color: #434B5C;\n",
              "      --hover-fill-color: #FFFFFF;\n",
              "      --disabled-bg-color: #3B4455;\n",
              "      --disabled-fill-color: #666;\n",
              "  }\n",
              "\n",
              "  .colab-df-quickchart {\n",
              "    background-color: var(--bg-color);\n",
              "    border: none;\n",
              "    border-radius: 50%;\n",
              "    cursor: pointer;\n",
              "    display: none;\n",
              "    fill: var(--fill-color);\n",
              "    height: 32px;\n",
              "    padding: 0;\n",
              "    width: 32px;\n",
              "  }\n",
              "\n",
              "  .colab-df-quickchart:hover {\n",
              "    background-color: var(--hover-bg-color);\n",
              "    box-shadow: 0 1px 2px rgba(60, 64, 67, 0.3), 0 1px 3px 1px rgba(60, 64, 67, 0.15);\n",
              "    fill: var(--button-hover-fill-color);\n",
              "  }\n",
              "\n",
              "  .colab-df-quickchart-complete:disabled,\n",
              "  .colab-df-quickchart-complete:disabled:hover {\n",
              "    background-color: var(--disabled-bg-color);\n",
              "    fill: var(--disabled-fill-color);\n",
              "    box-shadow: none;\n",
              "  }\n",
              "\n",
              "  .colab-df-spinner {\n",
              "    border: 2px solid var(--fill-color);\n",
              "    border-color: transparent;\n",
              "    border-bottom-color: var(--fill-color);\n",
              "    animation:\n",
              "      spin 1s steps(1) infinite;\n",
              "  }\n",
              "\n",
              "  @keyframes spin {\n",
              "    0% {\n",
              "      border-color: transparent;\n",
              "      border-bottom-color: var(--fill-color);\n",
              "      border-left-color: var(--fill-color);\n",
              "    }\n",
              "    20% {\n",
              "      border-color: transparent;\n",
              "      border-left-color: var(--fill-color);\n",
              "      border-top-color: var(--fill-color);\n",
              "    }\n",
              "    30% {\n",
              "      border-color: transparent;\n",
              "      border-left-color: var(--fill-color);\n",
              "      border-top-color: var(--fill-color);\n",
              "      border-right-color: var(--fill-color);\n",
              "    }\n",
              "    40% {\n",
              "      border-color: transparent;\n",
              "      border-right-color: var(--fill-color);\n",
              "      border-top-color: var(--fill-color);\n",
              "    }\n",
              "    60% {\n",
              "      border-color: transparent;\n",
              "      border-right-color: var(--fill-color);\n",
              "    }\n",
              "    80% {\n",
              "      border-color: transparent;\n",
              "      border-right-color: var(--fill-color);\n",
              "      border-bottom-color: var(--fill-color);\n",
              "    }\n",
              "    90% {\n",
              "      border-color: transparent;\n",
              "      border-bottom-color: var(--fill-color);\n",
              "    }\n",
              "  }\n",
              "</style>\n",
              "\n",
              "  <script>\n",
              "    async function quickchart(key) {\n",
              "      const quickchartButtonEl =\n",
              "        document.querySelector('#' + key + ' button');\n",
              "      quickchartButtonEl.disabled = true;  // To prevent multiple clicks.\n",
              "      quickchartButtonEl.classList.add('colab-df-spinner');\n",
              "      try {\n",
              "        const charts = await google.colab.kernel.invokeFunction(\n",
              "            'suggestCharts', [key], {});\n",
              "      } catch (error) {\n",
              "        console.error('Error during call to suggestCharts:', error);\n",
              "      }\n",
              "      quickchartButtonEl.classList.remove('colab-df-spinner');\n",
              "      quickchartButtonEl.classList.add('colab-df-quickchart-complete');\n",
              "    }\n",
              "    (() => {\n",
              "      let quickchartButtonEl =\n",
              "        document.querySelector('#df-8ec490e0-4955-4308-95b5-a2471435399f button');\n",
              "      quickchartButtonEl.style.display =\n",
              "        google.colab.kernel.accessAllowed ? 'block' : 'none';\n",
              "    })();\n",
              "  </script>\n",
              "</div>\n",
              "\n",
              "  <div id=\"id_c60cfdcf-9c28-4301-b2d6-d014f0499fe1\">\n",
              "    <style>\n",
              "      .colab-df-generate {\n",
              "        background-color: #E8F0FE;\n",
              "        border: none;\n",
              "        border-radius: 50%;\n",
              "        cursor: pointer;\n",
              "        display: none;\n",
              "        fill: #1967D2;\n",
              "        height: 32px;\n",
              "        padding: 0 0 0 0;\n",
              "        width: 32px;\n",
              "      }\n",
              "\n",
              "      .colab-df-generate:hover {\n",
              "        background-color: #E2EBFA;\n",
              "        box-shadow: 0px 1px 2px rgba(60, 64, 67, 0.3), 0px 1px 3px 1px rgba(60, 64, 67, 0.15);\n",
              "        fill: #174EA6;\n",
              "      }\n",
              "\n",
              "      [theme=dark] .colab-df-generate {\n",
              "        background-color: #3B4455;\n",
              "        fill: #D2E3FC;\n",
              "      }\n",
              "\n",
              "      [theme=dark] .colab-df-generate:hover {\n",
              "        background-color: #434B5C;\n",
              "        box-shadow: 0px 1px 3px 1px rgba(0, 0, 0, 0.15);\n",
              "        filter: drop-shadow(0px 1px 2px rgba(0, 0, 0, 0.3));\n",
              "        fill: #FFFFFF;\n",
              "      }\n",
              "    </style>\n",
              "    <button class=\"colab-df-generate\" onclick=\"generateWithVariable('spendcalc')\"\n",
              "            title=\"Generate code using this dataframe.\"\n",
              "            style=\"display:none;\">\n",
              "\n",
              "  <svg xmlns=\"http://www.w3.org/2000/svg\" height=\"24px\"viewBox=\"0 0 24 24\"\n",
              "       width=\"24px\">\n",
              "    <path d=\"M7,19H8.4L18.45,9,17,7.55,7,17.6ZM5,21V16.75L18.45,3.32a2,2,0,0,1,2.83,0l1.4,1.43a1.91,1.91,0,0,1,.58,1.4,1.91,1.91,0,0,1-.58,1.4L9.25,21ZM18.45,9,17,7.55Zm-12,3A5.31,5.31,0,0,0,4.9,8.1,5.31,5.31,0,0,0,1,6.5,5.31,5.31,0,0,0,4.9,4.9,5.31,5.31,0,0,0,6.5,1,5.31,5.31,0,0,0,8.1,4.9,5.31,5.31,0,0,0,12,6.5,5.46,5.46,0,0,0,6.5,12Z\"/>\n",
              "  </svg>\n",
              "    </button>\n",
              "    <script>\n",
              "      (() => {\n",
              "      const buttonEl =\n",
              "        document.querySelector('#id_c60cfdcf-9c28-4301-b2d6-d014f0499fe1 button.colab-df-generate');\n",
              "      buttonEl.style.display =\n",
              "        google.colab.kernel.accessAllowed ? 'block' : 'none';\n",
              "\n",
              "      buttonEl.onclick = () => {\n",
              "        google.colab.notebook.generateWithVariable('spendcalc');\n",
              "      }\n",
              "      })();\n",
              "    </script>\n",
              "  </div>\n",
              "\n",
              "    </div>\n",
              "  </div>\n"
            ],
            "application/vnd.google.colaboratory.intrinsic+json": {
              "type": "dataframe",
              "variable_name": "spendcalc",
              "summary": "{\n  \"name\": \"spendcalc\",\n  \"rows\": 10,\n  \"fields\": [\n    {\n      \"column\": \"Retention\",\n      \"properties\": {\n        \"dtype\": \"number\",\n        \"std\": 10,\n        \"min\": 1,\n        \"max\": 34,\n        \"num_unique_values\": 9,\n        \"samples\": [\n          18,\n          5,\n          16\n        ],\n        \"semantic_type\": \"\",\n        \"description\": \"\"\n      }\n    },\n    {\n      \"column\": \"Spend\",\n      \"properties\": {\n        \"dtype\": \"number\",\n        \"std\": 15,\n        \"min\": 0,\n        \"max\": 52,\n        \"num_unique_values\": 9,\n        \"samples\": [\n          1,\n          10,\n          3\n        ],\n        \"semantic_type\": \"\",\n        \"description\": \"\"\n      }\n    },\n    {\n      \"column\": \"XY\",\n      \"properties\": {\n        \"dtype\": \"number\",\n        \"std\": 544,\n        \"min\": 0,\n        \"max\": 1768,\n        \"num_unique_values\": 9,\n        \"samples\": [\n          18,\n          50,\n          48\n        ],\n        \"semantic_type\": \"\",\n        \"description\": \"\"\n      }\n    },\n    {\n      \"column\": \"x2\",\n      \"properties\": {\n        \"dtype\": \"number\",\n        \"std\": 367,\n        \"min\": 1,\n        \"max\": 1156,\n        \"num_unique_values\": 9,\n        \"samples\": [\n          324,\n          25,\n          256\n        ],\n        \"semantic_type\": \"\",\n        \"description\": \"\"\n      }\n    },\n    {\n      \"column\": \"y2\",\n      \"properties\": {\n        \"dtype\": \"number\",\n        \"std\": 832,\n        \"min\": 0,\n        \"max\": 2704,\n        \"num_unique_values\": 9,\n        \"samples\": [\n          1,\n          100,\n          9\n        ],\n        \"semantic_type\": \"\",\n        \"description\": \"\"\n      }\n    }\n  ]\n}"
            }
          },
          "metadata": {},
          "execution_count": 50
        }
      ],
      "metadata": {
        "datalore": {
          "node_id": "6vOCaiyS2VLtf74yRmTd37",
          "type": "CODE",
          "hide_input_from_viewers": true,
          "hide_output_from_viewers": true
        },
        "id": "uPoO4QPhKOAZ",
        "colab": {
          "base_uri": "https://localhost:8080/",
          "height": 359
        },
        "outputId": "2089a834-6699-4d21-b2b2-aa6a8350eb89"
      }
    },
    {
      "cell_type": "code",
      "source": [
        "# 3. Calculate the sum of all the columns\n",
        "\n",
        "# Sum of the columns\n",
        "sums = spendcalc.sum()\n",
        "#sums\n",
        "print(sums)\n",
        "\n",
        "# Your answers should be:\n",
        "# 121 116 2579 2541 3588"
      ],
      "execution_count": null,
      "outputs": [
        {
          "output_type": "stream",
          "name": "stdout",
          "text": [
            "Retention     121\n",
            "Spend         116\n",
            "XY           2579\n",
            "x2           2541\n",
            "y2           3588\n",
            "dtype: int64\n"
          ]
        }
      ],
      "metadata": {
        "datalore": {
          "node_id": "6P38FuFb0VvFRQV4POrKUY",
          "type": "CODE",
          "hide_input_from_viewers": true,
          "hide_output_from_viewers": true
        },
        "id": "XtqCPHFlKOAZ",
        "colab": {
          "base_uri": "https://localhost:8080/"
        },
        "outputId": "acab69df-e855-49ee-da43-b89417927191"
      }
    },
    {
      "cell_type": "markdown",
      "source": [
        "We are going to calculate a value called the **linear correlation coefficient**. We have thought about this problem, and decided that if the correlation coefficient is above 0.7, that is a high correlation.    \n",
        "    \n",
        "Aside: it is very common to use above 0.7 as high correlation, 0.3 - 0.7 as moderate correlation, so we are just going with generally accepted practice here, which is almost always a good idea.\n",
        "\n",
        "This metric is calculated by finding the covariance of the X and Y (or how the two datasets relate to one another), and then scaling it by dividing by the standard deviations. To put it another way:\n",
        "\n",
        "(How X and Y vary together) / (How each varies on its own)\n",
        "\n",
        "To calculate the numerator:\n",
        "\n",
        "Numerator = N * $\\sum$ X * Y - $\\sum$ X * $\\sum$ Y\n",
        "\n",
        "To calculate the Denominator, we use:\n",
        "\n",
        "Denominator = $\\sqrt{((N * \\sum X^2) - (\\sum X)^2)* ((N * \\sum Y^2) - (\\sum Y)^2)}$"
      ],
      "metadata": {
        "datalore": {
          "node_id": "9Be3mcPXCHyOjsIsrr9GkI",
          "type": "MD",
          "hide_input_from_viewers": true,
          "hide_output_from_viewers": true
        },
        "id": "ZvACBKpoKOAZ"
      }
    },
    {
      "cell_type": "markdown",
      "source": [
        "4. Calculate the Numerator?"
      ],
      "metadata": {
        "id": "UBEl1tq4pozD"
      }
    },
    {
      "cell_type": "code",
      "source": [
        "# You can either use a manual method using the values we calculated, or you can use a statistical library, or try both.\n",
        "# It's up to you.\n",
        "\n",
        "# 4. Calculate the Numerator.\n",
        "\n",
        "# your code here\n",
        "N = len(spendcalc)\n",
        "sum_X = sums['Retention']\n",
        "sum_Y = sums['Spend']\n",
        "sum_XY = sums['XY']\n",
        "\n",
        "numerator = (N * sum_XY) - (sum_X * sum_Y)\n",
        "print(\"Numerator:\", numerator)\n",
        "\n",
        "\n",
        "# Your answer should be 11754"
      ],
      "execution_count": null,
      "outputs": [
        {
          "output_type": "stream",
          "name": "stdout",
          "text": [
            "Numerator: 11754\n"
          ]
        }
      ],
      "metadata": {
        "datalore": {
          "node_id": "vjQQGwqVGVk5v22zVF2hbE",
          "type": "CODE",
          "hide_input_from_viewers": true,
          "hide_output_from_viewers": true
        },
        "id": "tVwp7pr3KOAa",
        "colab": {
          "base_uri": "https://localhost:8080/"
        },
        "outputId": "7cedd900-e88c-445f-cbb8-426a615e7fb5"
      }
    },
    {
      "cell_type": "markdown",
      "source": [
        "5. Calculate the Denominator"
      ],
      "metadata": {
        "id": "DEtEXlpUqDkR"
      }
    },
    {
      "cell_type": "code",
      "source": [
        "# You can either use a manual method using the values we calculated, or you can use a statistical library, or try both.\n",
        "\n",
        "# your code here\n",
        "import math\n",
        "sum_X2 = 2541\n",
        "sum_Y2 = 3588\n",
        "\n",
        "denominator = math.sqrt((N * sum_X2 - (sum_X ** 2)) * (N * sum_Y2 - (sum_Y ** 2)))\n",
        "print(\"Denominator:\", denominator)\n",
        "\n",
        "\n",
        "# Your answer should be 15540"
      ],
      "metadata": {
        "id": "5Hs9dEZ2qGy8",
        "colab": {
          "base_uri": "https://localhost:8080/"
        },
        "outputId": "502eb676-d6e5-4f14-89fe-83c37d918e44"
      },
      "execution_count": null,
      "outputs": [
        {
          "output_type": "stream",
          "name": "stdout",
          "text": [
            "Denominator: 15539.757269661583\n"
          ]
        }
      ]
    },
    {
      "cell_type": "markdown",
      "source": [
        "6. Finally, calculate the correlation coefficient by dividing 11754 by 15540.\n",
        "\n",
        "Is this a high or mooderate correlation?"
      ],
      "metadata": {
        "id": "ua8tNV1nqPQO"
      }
    },
    {
      "cell_type": "code",
      "source": [
        "#  You can either use a manual method using the values we calculated, or you can use a statistical library, or try both.\n",
        "\n",
        "# your code here.\n",
        "print(\"Correlation Coefficient:\", numerator / denominator)\n",
        "\n",
        "correlation = \"high\" if numerator / denominator > 0.7 else \"moderate\" if numerator / denominator >= 0.3 else \"low\"\n",
        "print(f\"This is a {correlation} correlation.\")\n"
      ],
      "metadata": {
        "id": "dgSzMfnaqVjX",
        "colab": {
          "base_uri": "https://localhost:8080/"
        },
        "outputId": "03bf65b8-0e03-4567-b40a-b44bbcebba6b"
      },
      "execution_count": null,
      "outputs": [
        {
          "output_type": "stream",
          "name": "stdout",
          "text": [
            "Correlation Coefficient: 0.7563824708476913\n",
            "This is a high correlation.\n"
          ]
        }
      ]
    },
    {
      "cell_type": "markdown",
      "source": [
        "Finally, it is important to mention that we have merely calculated a metric for this dataset. We can make statements about the correlation of the time the customer uses our app, and the amount they spend per month. We *cannot* make any statements about causality. Nevertheless, it certainly looks like this is worthy of further investigation. Plus, any app that generates this kind of revenue is a keeper.\n",
        "\n",
        "Fun fact: Ronald Fisher (Yes, [that Fisher](https://en.wikipedia.org/wiki/Fisher%27s_exact_test)) said that \"Randomness is the only reasoned basis for inference\". Why am I suddenly talking about randomness? Because the gold standard for understanding causality is the randomized experiment. We'll get to that more when we look at A|B testing in more detail. If you wish to study this topic more on your own, the next concept to study after randomized experiments is uplift modeling,"
      ],
      "metadata": {
        "datalore": {
          "node_id": "ABPN52jT60jZMnkrDfXMJ7",
          "type": "MD",
          "hide_input_from_viewers": true,
          "hide_output_from_viewers": true
        },
        "id": "GhXimUagKOAa"
      }
    },
    {
      "cell_type": "markdown",
      "source": [
        "## Part D: Data Visualization (4 points)\n",
        "\n",
        "Data visualization and clearly communicating your conclusions is incredibly important. You may not realize it, but you are much more mathematically inclined than the average person. Most people are not mathematically inclined, but we still need to communicate with those people. Just showing them some math result is a waste of time, so we need to think of something else. Remember, at the end of the day, product managers are communicators.      \n",
        "\n",
        "Data visualization is in some sense the [last mile problem](https://en.wikipedia.org/wiki/Last_mile_(transportation)) for data analysis. You need to spend time being able to prepare your results. The first tip is: When presenting to management, don't make your audience search for the answer. Put it front and center. In general, senior execs want to see the most important conclusions first. Then they will decide if it is worth digging in.\n",
        "\n",
        "Create a report for your boss in Datalore showing:\n",
        "\n",
        "The table of values from **Part C** and     \n",
        "The final correlation coefficient.      \n",
        "\n",
        "Include a chart, some titles and narrative so that your boss knows what they are looking at, and try to format it nicely. Now is a good time to get to know a visualization library if you don't know one. You can choose whatever you want. If you are not sure, choose Seaborn or if you don't like it, Altair (a wrapper for Vega), Here is [an interesting web page](https://aeturrell.github.io/coding-for-economists/vis-common-plots.html) about plotting.\n",
        "\n",
        "Download this notebook as an .ipynb file and submit it in Canvas. (File > export .ipnyb)"
      ],
      "metadata": {
        "datalore": {
          "node_id": "blbK7yye5kUmZyvhU98buh",
          "type": "MD",
          "hide_input_from_viewers": true,
          "hide_output_from_viewers": true
        },
        "id": "W2LMkSRpKOAa"
      }
    },
    {
      "cell_type": "code",
      "source": [
        "#Enter code here\n",
        "\n",
        "# Import necessary libraries\n",
        "import pandas as pd\n",
        "import matplotlib.pyplot as plt\n",
        "\n",
        "# Part C: Table of Values\n",
        "# Create a dictionary containing the retention and spend data\n",
        "data = {\n",
        "     \"Retention\": [3, 5, 7, 1, 12, 16, 34, 18, 1, 24],\n",
        "      \"Spend\": [0, 10, 15, 2, 17, 3, 52, 1, 0, 16]\n",
        "}\n",
        "# Create a DataFrame called 'spendcalc' using the provided data\n",
        "spendcalc = pd.DataFrame(data)\n",
        "\n",
        "# Add three more columns, called XY, x2 (for x squared) and y2 (likewise).\n",
        "spendcalc['XY'] = np.multiply(spendcalc['Retention'], spendcalc['Spend'])\n",
        "spendcalc['x2'] = np.square(spendcalc['Retention'])\n",
        "spendcalc['y2'] = np.square(spendcalc['Spend'])\n",
        "spendcalc\n",
        "\n",
        "\n",
        "# Calculate the correlation coefficient between Retention and Spend\n",
        "import numpy as np\n",
        "correlation_coefficient = np.corrcoef(spendcalc[\"Retention\"], spendcalc[\"Spend\"])[0, 1]\n",
        "\n",
        "\n",
        "# Create a figure and axes for the plot\n",
        "fig, ax = plt.subplots(figsize=(8, 6))\n",
        "\n",
        "# Add title and labels\n",
        "ax.set_title('Retention vs. Spend Analysis\", fontsize=14')\n",
        "ax.set_xlabel('Days Retained')\n",
        "ax.set_ylabel('Spend ($)')\n",
        "\n",
        "# Add correlation coefficient to the plot\n",
        "\n",
        "# Annotate the plot with the calculated correlation coefficient\n",
        "ax.annotate(f'Correlation Coefficient: {correlation_coefficient:.2f}',\n",
        "            xy=(0.5, 0.1), xycoords='axes fraction', fontsize=12, color='red')\n",
        "\n",
        "# Save or display the plot\n",
        "# Display a legend, grid, and the final plot\n",
        "ax.legend()\n",
        "plt.grid(True)\n",
        "plt.show()\n",
        "\n"
      ],
      "metadata": {
        "id": "jg8zdglypcx9",
        "colab": {
          "base_uri": "https://localhost:8080/",
          "height": 618
        },
        "outputId": "759a5ea9-0f18-4bd5-d524-d92f9417a465"
      },
      "execution_count": null,
      "outputs": [
        {
          "output_type": "stream",
          "name": "stderr",
          "text": [
            "<ipython-input-9-8c8ff8c26ab7>:44: UserWarning: No artists with labels found to put in legend.  Note that artists whose label start with an underscore are ignored when legend() is called with no argument.\n",
            "  ax.legend()\n"
          ]
        },
        {
          "output_type": "display_data",
          "data": {
            "text/plain": [
              "<Figure size 800x600 with 1 Axes>"
            ],
            "image/png": "[encoded data removed]"
          },
          "metadata": {}
        }
      ]
    },
    {
      "cell_type": "code",
      "source": [],
      "metadata": {
        "id": "YJFAL1Yb1ab3"
      },
      "execution_count": null,
      "outputs": []
    },
    {
      "cell_type": "markdown",
      "source": [
        "## How to submit\n",
        "\n",
        "1. Name your notebook fname-lname-sprint-x.ipynb\n",
        "2. Add a new cell to the top of the notebook. In it include some meta information:\n",
        "    1. Your name\n",
        "    2. The assignment\n",
        "    3. The libraries you installed, if any. eg: pyplot\n",
        "    4. A link to data sources you used, if any\n",
        "\n",
        "Finally, do future-you a favor and clean up this notebook, add lots of comments so you can understand what you did, and keep it for when you need it."
      ],
      "metadata": {
        "id": "p387eNKRPwzp"
      }
    },
    {
      "cell_type": "markdown",
      "source": [
        "## Finally  \n",
        "    \n",
        "If you have some time left in your week, I STRONGLY recommend that you go through the list below and spend some time getting up to speed on these concepts using YouTube, blogs, Kaggle or whatever you prefer. The links below are just from Google - there is nothing special about them, you should use your own links if you want to. Make sure you have a basic idea of the concepts. Spend roughly an hour on each of the following (Except maybe 10 minutes on Boolean masking, it's not that complicated. Put the extra time into the charting library):\n",
        "\n",
        "- Get comfortable using Jupyter notebooks.\n",
        "- Your charting library of choice. This is a hole with no bottom. Get able to create a few charts, then move on. Use AI to help you, as the code is finicky.\n",
        "- Boolean masking in Pandas. https://towardsdatascience.com/boolean-masking-with-pandas-b21b7714d0b6\n",
        "- Feature engineering. https://towardsdatascience.com/what-is-feature-engineering-bfd25b2b26b2\n",
        "- XGBoost. https://machinelearningmastery.com/develop-first-xgboost-model-python-scikit-learn/     \n",
        "  XGBoost is a very versatile and useful algorithm. If you studied gradient descent last semester you already understand it. [New? Start with this video](https://www.youtube.com/watch?v=OQKQHNCVf5k)\n",
        "- Scraping websites, eg: Scraping Amazon reviews   \n",
        "and if you are feeling energetic:\n",
        "- GridSearchCV. https://www.mygreatlearning.com/blog/gridsearchcv/\n",
        "\n",
        "One habit I want you to get into is learning to use tools. There is nothing special about these libraries, they are just tools. In the same way that nobody would reasonably expect you to know the details of how your cell phone works, you don't need to know the ins-and-outs of these tools. You DO need to learn when and how to use them.   \n",
        "   \n",
        "If the first time you run into these concepts is Sprint 3, it is going to be more painful for you than it needs to be."
      ],
      "metadata": {
        "datalore": {
          "node_id": "l9LdtEEhBXh7qyeAF8S4Hy",
          "type": "MD",
          "hide_input_from_viewers": true,
          "hide_output_from_viewers": true
        },
        "id": "qrPc9uemKOAa"
      }
    },
    {
      "cell_type": "markdown",
      "source": [
        "**Done!**"
      ],
      "metadata": {
        "datalore": {
          "node_id": "twTyBKCqwdF6slYapVRkNV",
          "type": "MD",
          "hide_input_from_viewers": true,
          "hide_output_from_viewers": true
        },
        "id": "ri6RA4RKKOAa"
      }
    }
  ],
  "metadata": {
    "kernelspec": {
      "display_name": "Python 3",
      "name": "python3"
    },
    "datalore": {
      "computation_mode": "JUPYTER",
      "package_manager": "pip",
      "base_environment": "default",
      "packages": [
        {
          "name": "nltk",
          "source": "PIP"
        }
      ],
      "report_row_ids": [],
      "version": 3
    },
    "colab": {
      "provenance": []
    },
    "language_info": {
      "name": "python"
    }
  },
  "nbformat": 4,
  "nbformat_minor": 0
}